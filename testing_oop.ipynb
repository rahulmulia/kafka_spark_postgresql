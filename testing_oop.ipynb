{
 "cells": [
  {
   "cell_type": "code",
   "execution_count": 1,
   "id": "f641774b-b49f-41e5-96c8-10a1d2ac2f8c",
   "metadata": {},
   "outputs": [],
   "source": [
    "from utils.spark_utils import spark\n",
    "import pyspark.sql.functions as F\n",
    "from utils.db_utils import pgDB"
   ]
  },
  {
   "cell_type": "code",
   "execution_count": 2,
   "id": "ec249719-b6df-424b-8e57-8c9b73be0529",
   "metadata": {},
   "outputs": [],
   "source": [
    "SheetLoanLevel = spark(\n",
    "    config_key=\"spark.jars.packages\",\n",
    "    config_value=\"com.crealytics:spark-excel_2.12:0.13.5\"\n",
    ").SparkReadExcels(\n",
    "    fileFormat=\"com.crealytics.spark.excel\",\n",
    "    header=\"true\",\n",
    "    inferSchema=\"true\",\n",
    "    dataAddress=\"'Loan Level'!A1\",\n",
    "    locationFile=\"/home/jovyan/work/DE_Rand_test (2).xlsx\"\n",
    ")"
   ]
  },
  {
   "cell_type": "code",
   "execution_count": 3,
   "id": "8512d698-b2b0-4018-9368-e6b9458c79e8",
   "metadata": {},
   "outputs": [],
   "source": [
    "SheetPartnerLevel = spark(\n",
    "    config_key=\"spark.jars.packages\",\n",
    "    config_value=\"com.crealytics:spark-excel_2.12:0.13.5\"\n",
    ").SparkReadExcels(\n",
    "    fileFormat=\"com.crealytics.spark.excel\",\n",
    "    header=\"true\",\n",
    "    inferSchema=\"true\",\n",
    "    dataAddress=\"'Partner Level'!A1\",\n",
    "    locationFile=\"/home/jovyan/work/DE_Rand_test (2).xlsx\"\n",
    ").na.drop(\n",
    "    subset=[\n",
    "        \"partner\",\n",
    "        \"name\"\n",
    "    ]\n",
    ")"
   ]
  },
  {
   "cell_type": "code",
   "execution_count": 4,
   "id": "e37ecb6d-2aa2-4c84-8e8b-2d319c40542a",
   "metadata": {},
   "outputs": [
    {
     "name": "stdout",
     "output_type": "stream",
     "text": [
      "10000\n",
      "4\n"
     ]
    }
   ],
   "source": [
    "print(SheetLoanLevel.count())\n",
    "print(SheetPartnerLevel.count())"
   ]
  },
  {
   "cell_type": "code",
   "execution_count": 5,
   "id": "77becae8-7005-4cf4-b021-1e3903533dae",
   "metadata": {},
   "outputs": [
    {
     "name": "stdout",
     "output_type": "stream",
     "text": [
      "root\n",
      " |-- loan_id: string (nullable = true)\n",
      " |-- loan_amount: double (nullable = true)\n",
      " |-- borrower_id: string (nullable = true)\n",
      " |-- status: string (nullable = true)\n",
      " |-- partner: string (nullable = true)\n",
      " |-- current_dpd: double (nullable = true)\n",
      " |-- max_dpd: double (nullable = true)\n",
      " |-- interest_rate: double (nullable = true)\n",
      " |-- loan_term: double (nullable = true)\n",
      "\n"
     ]
    }
   ],
   "source": [
    "SheetLoanLevel.printSchema()"
   ]
  },
  {
   "cell_type": "code",
   "execution_count": 6,
   "id": "0d5e0bb9-a724-46c8-84e6-41fa7a8e8535",
   "metadata": {},
   "outputs": [
    {
     "name": "stdout",
     "output_type": "stream",
     "text": [
      "root\n",
      " |-- partner: string (nullable = true)\n",
      " |-- name: string (nullable = true)\n",
      "\n"
     ]
    }
   ],
   "source": [
    "SheetPartnerLevel.printSchema()"
   ]
  },
  {
   "cell_type": "code",
   "execution_count": 7,
   "id": "ee87db89-7888-40e9-88a0-23533e849e05",
   "metadata": {},
   "outputs": [],
   "source": [
    "# 1.A change schema\n",
    "SheetLoanLevel = SheetLoanLevel \\\n",
    "    .withColumn(\"loan_amount\", SheetLoanLevel.loan_amount.cast('int')) \\\n",
    "    .withColumn(\"current_dpd\", SheetLoanLevel.current_dpd.cast('int')) \\\n",
    "    .withColumn(\"max_dpd\", SheetLoanLevel.max_dpd.cast('int')) \\\n",
    "    .withColumn(\"loan_term\", SheetLoanLevel.loan_term.cast('int'))"
   ]
  },
  {
   "cell_type": "code",
   "execution_count": 8,
   "id": "ebe26623-758c-429e-8425-70f520881138",
   "metadata": {},
   "outputs": [
    {
     "name": "stdout",
     "output_type": "stream",
     "text": [
      "root\n",
      " |-- loan_id: string (nullable = true)\n",
      " |-- loan_amount: integer (nullable = true)\n",
      " |-- borrower_id: string (nullable = true)\n",
      " |-- status: string (nullable = true)\n",
      " |-- partner: string (nullable = true)\n",
      " |-- current_dpd: integer (nullable = true)\n",
      " |-- max_dpd: integer (nullable = true)\n",
      " |-- interest_rate: double (nullable = true)\n",
      " |-- loan_term: integer (nullable = true)\n",
      "\n"
     ]
    }
   ],
   "source": [
    "SheetLoanLevel.printSchema()"
   ]
  },
  {
   "cell_type": "code",
   "execution_count": 9,
   "id": "433dca13-7e24-4748-84c8-0afb25e18a49",
   "metadata": {},
   "outputs": [
    {
     "data": {
      "text/plain": [
       "[Row(status='CANCELLED'),\n",
       " Row(status='LIVE'),\n",
       " Row(status='CLOSED'),\n",
       " Row(status='PENDING')]"
      ]
     },
     "execution_count": 9,
     "metadata": {},
     "output_type": "execute_result"
    }
   ],
   "source": [
    "SheetLoanLevel.select('status').distinct().collect()"
   ]
  },
  {
   "cell_type": "code",
   "execution_count": 10,
   "id": "646e8022-84d5-4b2a-92e2-06b512bd00c1",
   "metadata": {},
   "outputs": [],
   "source": [
    "# 1.B The variable ‘status’ in ‘loan’ has a ‘Pending’ value. \n",
    "# with Python Code, change it into ‘SUBMITTED’.\n",
    "\n",
    "SheetLoanLevel = SheetLoanLevel \\\n",
    "    .withColumn('status', F.when(SheetLoanLevel.status=='PENDING', 'SUBMITTED') \\\n",
    "    .otherwise(SheetLoanLevel.status))"
   ]
  },
  {
   "cell_type": "code",
   "execution_count": 11,
   "id": "de7610e4-cf56-43ef-97f1-9b55a4d8fb78",
   "metadata": {},
   "outputs": [
    {
     "data": {
      "text/plain": [
       "[Row(status='SUBMITTED'),\n",
       " Row(status='CANCELLED'),\n",
       " Row(status='LIVE'),\n",
       " Row(status='CLOSED')]"
      ]
     },
     "execution_count": 11,
     "metadata": {},
     "output_type": "execute_result"
    }
   ],
   "source": [
    "SheetLoanLevel.select('status').distinct().collect()"
   ]
  },
  {
   "cell_type": "code",
   "execution_count": 12,
   "id": "0f04b198-28f8-49cb-a01b-8b835d3edef5",
   "metadata": {},
   "outputs": [],
   "source": [
    "db_connection = {\n",
    "    'user': 'user-name',\n",
    "    'password': 'strong-password',\n",
    "    'host': '172.28.0.2',\n",
    "    'port': '5432',\n",
    "    'database': 'user-name',\n",
    "}"
   ]
  },
  {
   "cell_type": "code",
   "execution_count": 13,
   "id": "c351a6b4-7276-4c32-9058-26a2c7351ed0",
   "metadata": {},
   "outputs": [],
   "source": [
    "# 1.C Ingest the data into the Database.\n",
    "\n",
    "# Insert Loan Level Table\n",
    "pgDB(\n",
    "    user=db_connection['user'],\n",
    "    password=db_connection['password'],\n",
    "    host=db_connection['host'],\n",
    "    port=db_connection['port'],\n",
    "    database=db_connection['database']\n",
    ").SparkDataFrameToDB(\n",
    "    TableNameDB='loan',\n",
    "    SparkDataFrame=SheetLoanLevel,\n",
    "    if_exists='replace',\n",
    "    index=False\n",
    ")\n",
    "\n",
    "# Insert Partner Level Table\n",
    "pgDB(\n",
    "    user=db_connection['user'],\n",
    "    password=db_connection['password'],\n",
    "    host=db_connection['host'],\n",
    "    port=db_connection['port'],\n",
    "    database=db_connection['database']\n",
    ").SparkDataFrameToDB(\n",
    "    TableNameDB='partner',\n",
    "    SparkDataFrame=SheetPartnerLevel,\n",
    "    if_exists='replace',\n",
    "    index=False\n",
    ")"
   ]
  },
  {
   "cell_type": "code",
   "execution_count": 14,
   "id": "f452af4e-06e0-45a0-a6da-81b9cd1b99e1",
   "metadata": {},
   "outputs": [],
   "source": []
  },
  {
   "cell_type": "code",
   "execution_count": null,
   "id": "48aab859-85b2-410c-b45c-10d8508b330e",
   "metadata": {},
   "outputs": [],
   "source": []
  }
 ],
 "metadata": {
  "kernelspec": {
   "display_name": "Python 3 (ipykernel)",
   "language": "python",
   "name": "python3"
  },
  "language_info": {
   "codemirror_mode": {
    "name": "ipython",
    "version": 3
   },
   "file_extension": ".py",
   "mimetype": "text/x-python",
   "name": "python",
   "nbconvert_exporter": "python",
   "pygments_lexer": "ipython3",
   "version": "3.11.6"
  }
 },
 "nbformat": 4,
 "nbformat_minor": 5
}
