{
 "cells": [
  {
   "cell_type": "code",
   "execution_count": 1,
   "id": "3847b1a5-6e59-4eea-bf06-bde6a896934e",
   "metadata": {},
   "outputs": [],
   "source": [
    "# import pyspark \n",
    "# from pyspark.sql import SparkSession \n",
    "# from pyspark.sql import Row \n",
    "\n",
    "\n",
    "\n",
    "# spark = SparkSession.builder.config(\"spark.jars\", \"/home/jovyan/work/postgresql-42.2.5.jar\") \\\n",
    "#     .master(\"local\").appName(\"PySpark_Postgres_test\").getOrCreate()"
   ]
  },
  {
   "cell_type": "code",
   "execution_count": 2,
   "id": "6f04b4a4-21be-4988-869b-630417c91e45",
   "metadata": {},
   "outputs": [],
   "source": [
    "# df = spark.read.format(\"jdbc\") \\\n",
    "#     .option(\"url\", \"jdbc:postgresql://172.28.0.2:5432/user-name\") \\\n",
    "#     .option(\"driver\", \"org.postgresql.Driver\") \\\n",
    "#     .option(\"dbtable\", \"links\") \\\n",
    "#     .option(\"user\", \"user-name\") \\\n",
    "#     .option(\"password\", \"strong-password\") \\\n",
    "#     .load()"
   ]
  },
  {
   "cell_type": "code",
   "execution_count": 3,
   "id": "e19b546f-4269-4303-96fd-3ff325cf9d7b",
   "metadata": {},
   "outputs": [],
   "source": [
    "# df.printSchema()"
   ]
  },
  {
   "cell_type": "code",
   "execution_count": 4,
   "id": "3cfc51f6-2c9e-4bbb-b1d5-db19cefe6539",
   "metadata": {},
   "outputs": [],
   "source": [
    "# df.show()"
   ]
  },
  {
   "cell_type": "code",
   "execution_count": 5,
   "id": "e55935c5-1a34-4449-83e4-de9860152cb4",
   "metadata": {},
   "outputs": [],
   "source": [
    "from pyspark.sql import SparkSession\n",
    "\n",
    "# Create a SparkSession\n",
    "spark_xls = SparkSession.builder.config(\"spark.jars.packages\", \"com.crealytics:spark-excel_2.12:0.13.5\") \\\n",
    "    .master(\"local\").appName(\"excels\").getOrCreate()"
   ]
  },
  {
   "cell_type": "code",
   "execution_count": 6,
   "id": "960d6e2a-7e2e-4afb-aed4-cad7dc16a14b",
   "metadata": {},
   "outputs": [],
   "source": [
    "df_xls = spark_xls.read.format(\"com.crealytics.spark.excel\") \\\n",
    ".option(\"header\", \"true\") \\\n",
    ".option(\"inferSchema\", \"true\") \\\n",
    ".option(\"dataAddress\", \"'Loan Level'!A1\") \\\n",
    ".load(\"/home/jovyan/work/DE_Rand_test (2).xlsx\")"
   ]
  },
  {
   "cell_type": "code",
   "execution_count": 7,
   "id": "be350a1b-b6c3-414b-9ce4-565be05a1f22",
   "metadata": {},
   "outputs": [
    {
     "name": "stdout",
     "output_type": "stream",
     "text": [
      "+--------------------+-----------+--------------------+---------+---------+-----------+-------+-------------+---------+\n",
      "|             loan_id|loan_amount|         borrower_id|   status|  partner|current_dpd|max_dpd|interest_rate|loan_term|\n",
      "+--------------------+-----------+--------------------+---------+---------+-----------+-------+-------------+---------+\n",
      "|1cd246a8-1d42-4e4...|     7.73E7|f06f889b-bf6c-4c0...|     LIVE|FINTECH_A|        0.0|    0.0|         0.12|     21.0|\n",
      "|5a2a5ac3-0136-462...|     4.61E7|cbb43196-a92f-499...|     LIVE|FINTECH_A|       57.0|   57.0|         0.12|     84.0|\n",
      "|9613a317-2031-496...|     5.75E7|08035917-3b4e-48c...|CANCELLED|   BANK_A|        0.0|    0.0|         0.12|     63.0|\n",
      "|07ec998e-a413-41a...|     7.38E7|b233e831-a7a6-44d...|     LIVE|FINTECH_B|       52.0|   57.0|          0.2|    112.0|\n",
      "|384c2f53-6bad-4ee...|     8.15E7|85611e80-e5c1-458...|  PENDING|FINTECH_B|        0.0|    0.0|          0.2|     28.0|\n",
      "+--------------------+-----------+--------------------+---------+---------+-----------+-------+-------------+---------+\n",
      "only showing top 5 rows\n",
      "\n"
     ]
    }
   ],
   "source": [
    "df_xls.show(5)"
   ]
  },
  {
   "cell_type": "code",
   "execution_count": 8,
   "id": "102f83c4-3528-47ac-9902-ab6c82bb0751",
   "metadata": {},
   "outputs": [
    {
     "name": "stdout",
     "output_type": "stream",
     "text": [
      "root\n",
      " |-- loan_id: string (nullable = true)\n",
      " |-- loan_amount: double (nullable = true)\n",
      " |-- borrower_id: string (nullable = true)\n",
      " |-- status: string (nullable = true)\n",
      " |-- partner: string (nullable = true)\n",
      " |-- current_dpd: double (nullable = true)\n",
      " |-- max_dpd: double (nullable = true)\n",
      " |-- interest_rate: double (nullable = true)\n",
      " |-- loan_term: double (nullable = true)\n",
      "\n"
     ]
    }
   ],
   "source": [
    "df_xls.printSchema()"
   ]
  },
  {
   "cell_type": "code",
   "execution_count": 9,
   "id": "3f6246f7-7ca0-4ed3-a0aa-4e424ec7fe96",
   "metadata": {},
   "outputs": [
    {
     "data": {
      "text/plain": [
       "10000"
      ]
     },
     "execution_count": 9,
     "metadata": {},
     "output_type": "execute_result"
    }
   ],
   "source": [
    "df_xls.count()"
   ]
  },
  {
   "cell_type": "code",
   "execution_count": 10,
   "id": "97ebe01d-2244-400b-a235-a63f7231a174",
   "metadata": {},
   "outputs": [],
   "source": [
    "df_xls = df_xls \\\n",
    "    .withColumn(\"loan_amount\", df_xls.loan_amount.cast('int')) \\\n",
    "    .withColumn(\"current_dpd\", df_xls.current_dpd.cast('int')) \\\n",
    "    .withColumn(\"max_dpd\", df_xls.max_dpd.cast('int')) \\\n",
    "    .withColumn(\"loan_term\", df_xls.loan_term.cast('int'))"
   ]
  },
  {
   "cell_type": "code",
   "execution_count": 11,
   "id": "3306e619-6ef9-4087-ba3e-67afd9ee6423",
   "metadata": {},
   "outputs": [
    {
     "name": "stdout",
     "output_type": "stream",
     "text": [
      "root\n",
      " |-- loan_id: string (nullable = true)\n",
      " |-- loan_amount: integer (nullable = true)\n",
      " |-- borrower_id: string (nullable = true)\n",
      " |-- status: string (nullable = true)\n",
      " |-- partner: string (nullable = true)\n",
      " |-- current_dpd: integer (nullable = true)\n",
      " |-- max_dpd: integer (nullable = true)\n",
      " |-- interest_rate: double (nullable = true)\n",
      " |-- loan_term: integer (nullable = true)\n",
      "\n"
     ]
    }
   ],
   "source": [
    "df_xls.printSchema()"
   ]
  },
  {
   "cell_type": "code",
   "execution_count": 12,
   "id": "07f974aa-8fee-4737-a0cc-e76d505882b0",
   "metadata": {},
   "outputs": [
    {
     "data": {
      "text/plain": [
       "Row(loan_id='1cd246a8-1d42-4e48-ae55-016d9cb36d60', loan_amount=77300000, borrower_id='f06f889b-bf6c-4c03-84a7-8d38dc965e65', status='LIVE', partner='FINTECH_A', current_dpd=0, max_dpd=0, interest_rate=0.12, loan_term=21)"
      ]
     },
     "execution_count": 12,
     "metadata": {},
     "output_type": "execute_result"
    }
   ],
   "source": [
    "from pyspark.sql.functions import col\n",
    "\n",
    "df_xls.collect()[0]"
   ]
  },
  {
   "cell_type": "code",
   "execution_count": 13,
   "id": "da8e79b7-598e-47b9-b219-6fb291c83d26",
   "metadata": {},
   "outputs": [
    {
     "data": {
      "text/plain": [
       "[Row(status='CANCELLED'),\n",
       " Row(status='LIVE'),\n",
       " Row(status='CLOSED'),\n",
       " Row(status='PENDING')]"
      ]
     },
     "execution_count": 13,
     "metadata": {},
     "output_type": "execute_result"
    }
   ],
   "source": [
    "df_xls.select('status').distinct().collect()"
   ]
  },
  {
   "cell_type": "code",
   "execution_count": 14,
   "id": "eae01607-eb47-4af5-b46c-6278bd2480d8",
   "metadata": {},
   "outputs": [],
   "source": [
    "import pyspark.sql.functions as F\n",
    "\n",
    "#update all values in 'team' column equal to 'A' to now be 'Atlanta'\n",
    "df_xls = df_xls.withColumn('status', F.when(df_xls.status=='PENDING', 'SUBMITTED').otherwise(df_xls.status))"
   ]
  },
  {
   "cell_type": "code",
   "execution_count": 22,
   "id": "d12a8120-1a8a-4df7-acdf-a51209456337",
   "metadata": {},
   "outputs": [
    {
     "data": {
      "text/plain": [
       "[Row(status='SUBMITTED'),\n",
       " Row(status='CANCELLED'),\n",
       " Row(status='LIVE'),\n",
       " Row(status='CLOSED')]"
      ]
     },
     "execution_count": 22,
     "metadata": {},
     "output_type": "execute_result"
    }
   ],
   "source": [
    "df_xls.select('status').distinct().collect()"
   ]
  },
  {
   "cell_type": "code",
   "execution_count": 23,
   "id": "31d1b300-cba4-49e4-b1a6-5f6f71ff7e85",
   "metadata": {},
   "outputs": [],
   "source": [
    "# spark_pgsql = SparkSession.builder.config(\"spark.jars\", \"/home/jovyan/work/postgresql-42.7.1.jar\") \\\n",
    "#     .master(\"local\").appName(\"PySpark_Postgres_test\").getOrCreate()"
   ]
  },
  {
   "cell_type": "code",
   "execution_count": 24,
   "id": "4f218bbf-43bf-4238-8211-8ecde49a7c70",
   "metadata": {},
   "outputs": [],
   "source": [
    "# df_xls \\\n",
    "#     .select(\"loan_id\",\"loan_amount\",\"borrower_id\",\"status\",\"partner\",\"current_dpd\",\"max_dpd\",\"interest_rate\",\"loan_term\") \\\n",
    "#     .write.format(\"jdbc\")\\\n",
    "#     .option(\"url\", \"jdbc:postgresql://172.28.0.2:5432/user-name\") \\\n",
    "#     .option(\"driver\", \"org.postgresql.Driver\") \\\n",
    "#     .option(\"dbtable\", \"loan\") \\\n",
    "#     .option(\"user\", \"user-name\") \\\n",
    "#     .option(\"password\", \"strong-password\") \\\n",
    "#     .option(\"numPartitions\", 20)\\\n",
    "#     .save()"
   ]
  },
  {
   "cell_type": "code",
   "execution_count": 30,
   "id": "ef5d56c3-f68d-4701-bd4b-4afec98d205d",
   "metadata": {},
   "outputs": [],
   "source": [
    "df_xls_df = df_xls \\\n",
    "    .select(\"loan_id\",\"loan_amount\",\"borrower_id\",\"status\",\"partner\",\"current_dpd\",\"max_dpd\",\"interest_rate\",\"loan_term\") \\\n",
    "    .toPandas()"
   ]
  },
  {
   "cell_type": "code",
   "execution_count": 31,
   "id": "f7d81289-7e99-4913-8482-04fdbd3aa7c9",
   "metadata": {},
   "outputs": [
    {
     "data": {
      "text/plain": [
       "loan_id           object\n",
       "loan_amount        int32\n",
       "borrower_id       object\n",
       "status            object\n",
       "partner           object\n",
       "current_dpd        int32\n",
       "max_dpd            int32\n",
       "interest_rate    float64\n",
       "loan_term          int32\n",
       "dtype: object"
      ]
     },
     "execution_count": 31,
     "metadata": {},
     "output_type": "execute_result"
    }
   ],
   "source": [
    "df_xls_df.dtypes"
   ]
  },
  {
   "cell_type": "code",
   "execution_count": 38,
   "id": "a336686e-b31c-4bdc-aa24-e8d5328e3b8b",
   "metadata": {},
   "outputs": [
    {
     "name": "stdout",
     "output_type": "stream",
     "text": [
      "Collecting psycopg2-binary\n",
      "  Downloading psycopg2_binary-2.9.9-cp311-cp311-manylinux_2_17_x86_64.manylinux2014_x86_64.whl.metadata (4.4 kB)\n",
      "Downloading psycopg2_binary-2.9.9-cp311-cp311-manylinux_2_17_x86_64.manylinux2014_x86_64.whl (3.0 MB)\n",
      "\u001b[2K   \u001b[90m━━━━━━━━━━━━━━━━━━━━━━━━━━━━━━━━━━━━━━━━\u001b[0m \u001b[32m3.0/3.0 MB\u001b[0m \u001b[31m682.2 kB/s\u001b[0m eta \u001b[36m0:00:00\u001b[0m00:01\u001b[0m00:01\u001b[0m\n",
      "\u001b[?25hInstalling collected packages: psycopg2-binary\n",
      "Successfully installed psycopg2-binary-2.9.9\n"
     ]
    }
   ],
   "source": [
    "!pip install psycopg2-binary\n",
    "\n",
    "from sqlalchemy import create_engine\n",
    "import psycopg2"
   ]
  },
  {
   "cell_type": "code",
   "execution_count": 40,
   "id": "5a119e9c-9f2a-41cc-96a4-7e1f307d4402",
   "metadata": {},
   "outputs": [],
   "source": [
    "# Replace these values with your PostgreSQL connection details\n",
    "db_connection = {\n",
    "    'user': 'user-name',\n",
    "    'password': 'strong-password',\n",
    "    'host': '172.28.0.2',\n",
    "    'port': '5432',\n",
    "    'database': 'user-name',\n",
    "}\n",
    "\n",
    "# Replace 'your_table_name' with the name of your PostgreSQL table\n",
    "table_name = 'loan'\n",
    "\n",
    "# Create a connection to the PostgreSQL database\n",
    "engine = create_engine(f\"postgresql+psycopg2://{db_connection['user']}:{db_connection['password']}@{db_connection['host']}:{db_connection['port']}/{db_connection['database']}\")\n",
    "\n",
    "# Assuming you have a DataFrame named 'df' with the data you want to load\n",
    "df_xls_df.to_sql(name=table_name, con=engine, if_exists='replace', index=False)\n",
    "\n",
    "# Close the database connection\n",
    "engine.dispose()"
   ]
  },
  {
   "cell_type": "code",
   "execution_count": 41,
   "id": "8a788f1d-15fb-4f95-b141-8acd3d04c189",
   "metadata": {},
   "outputs": [],
   "source": [
    "df_xls_2 = spark_xls.read.format(\"com.crealytics.spark.excel\") \\\n",
    ".option(\"header\", \"true\") \\\n",
    ".option(\"inferSchema\", \"true\") \\\n",
    ".option(\"dataAddress\", \"'Partner Level'!A1\") \\\n",
    ".load(\"/home/jovyan/work/DE_Rand_test (2).xlsx\")"
   ]
  },
  {
   "cell_type": "code",
   "execution_count": 43,
   "id": "b7ca13c1-0181-416e-b59c-395cbf122d3a",
   "metadata": {},
   "outputs": [
    {
     "name": "stdout",
     "output_type": "stream",
     "text": [
      "root\n",
      " |-- partner: string (nullable = true)\n",
      " |-- name: string (nullable = true)\n",
      "\n"
     ]
    }
   ],
   "source": [
    "df_xls_2.printSchema()"
   ]
  },
  {
   "cell_type": "code",
   "execution_count": 45,
   "id": "3e41d531-1d4b-40f7-9559-3371975df295",
   "metadata": {},
   "outputs": [],
   "source": [
    "df_xls_df_2 = df_xls_2 \\\n",
    "    .select(\"partner\", \"name\") \\\n",
    "    .toPandas()"
   ]
  },
  {
   "cell_type": "code",
   "execution_count": 47,
   "id": "766de416-7982-4b91-9129-e08f0c0c5ce2",
   "metadata": {},
   "outputs": [],
   "source": [
    "# Replace these values with your PostgreSQL connection details\n",
    "db_connection = {\n",
    "    'user': 'user-name',\n",
    "    'password': 'strong-password',\n",
    "    'host': '172.28.0.2',\n",
    "    'port': '5432',\n",
    "    'database': 'user-name',\n",
    "}\n",
    "\n",
    "# Replace 'your_table_name' with the name of your PostgreSQL table\n",
    "table_name = 'partner'\n",
    "\n",
    "# Create a connection to the PostgreSQL database\n",
    "engine = create_engine(f\"postgresql+psycopg2://{db_connection['user']}:{db_connection['password']}@{db_connection['host']}:{db_connection['port']}/{db_connection['database']}\")\n",
    "\n",
    "# Assuming you have a DataFrame named 'df' with the data you want to load\n",
    "df_xls_df_2.to_sql(name=table_name, con=engine, if_exists='replace', index=False)\n",
    "\n",
    "# Close the database connection\n",
    "engine.dispose()"
   ]
  },
  {
   "cell_type": "code",
   "execution_count": 48,
   "id": "12b34876-78e1-4b80-a88d-e9134aadeb65",
   "metadata": {},
   "outputs": [
    {
     "name": "stdout",
     "output_type": "stream",
     "text": [
      "+--------------------+-----------+--------------------+---------+---------+-----------+-------+-------------+---------+\n",
      "|             loan_id|loan_amount|         borrower_id|   status|  partner|current_dpd|max_dpd|interest_rate|loan_term|\n",
      "+--------------------+-----------+--------------------+---------+---------+-----------+-------+-------------+---------+\n",
      "|1cd246a8-1d42-4e4...|   77300000|f06f889b-bf6c-4c0...|     LIVE|FINTECH_A|          0|      0|         0.12|       21|\n",
      "|5a2a5ac3-0136-462...|   46100000|cbb43196-a92f-499...|     LIVE|FINTECH_A|         57|     57|         0.12|       84|\n",
      "|9613a317-2031-496...|   57500000|08035917-3b4e-48c...|CANCELLED|   BANK_A|          0|      0|         0.12|       63|\n",
      "|07ec998e-a413-41a...|   73800000|b233e831-a7a6-44d...|     LIVE|FINTECH_B|         52|     57|          0.2|      112|\n",
      "|384c2f53-6bad-4ee...|   81500000|85611e80-e5c1-458...|SUBMITTED|FINTECH_B|          0|      0|          0.2|       28|\n",
      "+--------------------+-----------+--------------------+---------+---------+-----------+-------+-------------+---------+\n",
      "only showing top 5 rows\n",
      "\n"
     ]
    }
   ],
   "source": [
    "df_xls.show(5)"
   ]
  },
  {
   "cell_type": "code",
   "execution_count": 119,
   "id": "80e19981-6cb5-4713-8727-4711a58f7411",
   "metadata": {},
   "outputs": [],
   "source": [
    "df_xls = df_xls.withColumn(\n",
    "    'dpd_category',\n",
    "    F.when((F.col(\"current_dpd\") == 0), \"dpd_category0\")\\\n",
    "    .when((F.col(\"current_dpd\") >= 1) & (F.col('current_dpd') <= 30), \"dpd_category130\")\\\n",
    "    .when((F.col(\"current_dpd\") >= 31) & (F.col('current_dpd') <= 60), \"dpd_category3160\")\\\n",
    "    .otherwise(\"dpd_category61more\")\n",
    ")\n",
    "\n",
    "df_xls = df_xls.withColumn(\n",
    "    'kolektibilitas',\n",
    "    F.when((F.col(\"current_dpd\") == 0), \"lancar\")\\\n",
    "    .when((F.col(\"current_dpd\") >= 1) & (F.col('current_dpd') <= 90), \"dalam_perhatian_khusus\")\\\n",
    "    .when((F.col(\"current_dpd\") >= 91) & (F.col('current_dpd') <= 120), \"kurang_lancar\")\\\n",
    "    .when((F.col(\"current_dpd\") >= 121) & (F.col('current_dpd') <= 180), \"diragukan\")\\\n",
    "    .otherwise(\"macet\")\n",
    ")"
   ]
  },
  {
   "cell_type": "code",
   "execution_count": 120,
   "id": "699033a2-dfda-4755-bf81-4f581ed61533",
   "metadata": {},
   "outputs": [
    {
     "name": "stdout",
     "output_type": "stream",
     "text": [
      "+--------------------+-----------+--------------------+------+---------+-----------+-------+-------------+---------+-------------+--------------+\n",
      "|             loan_id|loan_amount|         borrower_id|status|  partner|current_dpd|max_dpd|interest_rate|loan_term| dpd_category|kolektibilitas|\n",
      "+--------------------+-----------+--------------------+------+---------+-----------+-------+-------------+---------+-------------+--------------+\n",
      "|1cd246a8-1d42-4e4...|   77300000|f06f889b-bf6c-4c0...|  LIVE|FINTECH_A|          0|      0|         0.12|       21|dpd_category0|        lancar|\n",
      "+--------------------+-----------+--------------------+------+---------+-----------+-------+-------------+---------+-------------+--------------+\n",
      "only showing top 1 row\n",
      "\n"
     ]
    }
   ],
   "source": [
    "df_xls.show(1)"
   ]
  },
  {
   "cell_type": "code",
   "execution_count": 121,
   "id": "0b59a82c-a81d-4334-9db2-3500f67f9fdf",
   "metadata": {},
   "outputs": [],
   "source": [
    "dpd_bucket_cat0 = df_xls.select(\"loan_id\", \"borrower_id\", \"loan_amount\", \"dpd_category\").filter(df_xls.dpd_category == \"dpd_category0\")\n",
    "dpd_bucket_cat1 = df_xls.select(\"loan_id\", \"borrower_id\", \"loan_amount\", \"dpd_category\").filter(df_xls.dpd_category == \"dpd_category130\")\n",
    "dpd_bucket_cat2 = df_xls.select(\"loan_id\", \"borrower_id\", \"loan_amount\", \"dpd_category\").filter(df_xls.dpd_category == \"dpd_category3160\")\n",
    "dpd_bucket_cat3 = df_xls.select(\"loan_id\", \"borrower_id\", \"loan_amount\", \"dpd_category\").filter(df_xls.dpd_category == \"dpd_category61more\")"
   ]
  },
  {
   "cell_type": "code",
   "execution_count": 122,
   "id": "55671387-6c64-454c-ae41-9679b2790c0d",
   "metadata": {},
   "outputs": [
    {
     "name": "stdout",
     "output_type": "stream",
     "text": [
      "7171\n",
      "638\n",
      "589\n",
      "1602\n"
     ]
    }
   ],
   "source": [
    "print(dpd_bucket_cat0.count())\n",
    "print(dpd_bucket_cat1.count())\n",
    "print(dpd_bucket_cat2.count())\n",
    "print(dpd_bucket_cat3.count())"
   ]
  },
  {
   "cell_type": "code",
   "execution_count": 123,
   "id": "585ee776-bafb-4859-8906-508969b50f61",
   "metadata": {},
   "outputs": [
    {
     "name": "stdout",
     "output_type": "stream",
     "text": [
      "+--------------------+--------------------+-----------+-------------+\n",
      "|             loan_id|         borrower_id|loan_amount| dpd_category|\n",
      "+--------------------+--------------------+-----------+-------------+\n",
      "|1cd246a8-1d42-4e4...|f06f889b-bf6c-4c0...|   77300000|dpd_category0|\n",
      "|9613a317-2031-496...|08035917-3b4e-48c...|   57500000|dpd_category0|\n",
      "|384c2f53-6bad-4ee...|85611e80-e5c1-458...|   81500000|dpd_category0|\n",
      "|85e2b6fd-3469-459...|ab69fff7-8442-47c...|   50000000|dpd_category0|\n",
      "|ed975b90-8192-463...|1200a453-62ea-48d...|   11700000|dpd_category0|\n",
      "|b59e9933-f832-4ea...|b8eb2c87-1cc0-4d0...|   90800000|dpd_category0|\n",
      "|11ca09a7-1362-4c6...|149c403c-98ea-4f2...|    1100000|dpd_category0|\n",
      "|6aff95e5-42e4-454...|c45135be-380e-4cf...|   65500000|dpd_category0|\n",
      "|4c0dc051-26aa-45a...|05a8cb1d-57e1-427...|   31300000|dpd_category0|\n",
      "|801806de-e6cb-4b9...|f2ab849a-61de-4c9...|   88000000|dpd_category0|\n",
      "|177516d4-e8a5-414...|e59b45d2-6ca5-47c...|   13900000|dpd_category0|\n",
      "|1865983f-e89c-42a...|f84c4992-5759-4aa...|   22300000|dpd_category0|\n",
      "|1644df67-388e-492...|6b3b498b-3248-49d...|   78400000|dpd_category0|\n",
      "|3ea801aa-45f0-453...|13938550-e7a8-452...|   29900000|dpd_category0|\n",
      "|149f275f-60b8-46f...|83385378-b4a3-4f1...|   46500000|dpd_category0|\n",
      "|a15a45df-497f-420...|2ae69a7d-23c7-4f2...|   99200000|dpd_category0|\n",
      "|755902e0-6c74-4d2...|93a7ebda-89b1-4c1...|   79600000|dpd_category0|\n",
      "|31d41736-03ed-44c...|77aed4de-837e-4b0...|   84600000|dpd_category0|\n",
      "|ab46fe7c-bfc8-401...|e986aec2-b2f3-49d...|   93400000|dpd_category0|\n",
      "|8c1938f8-0313-4d3...|7bec5623-889b-45f...|    5300000|dpd_category0|\n",
      "+--------------------+--------------------+-----------+-------------+\n",
      "only showing top 20 rows\n",
      "\n"
     ]
    }
   ],
   "source": [
    "dpd_bucket_cat0.show()"
   ]
  },
  {
   "cell_type": "code",
   "execution_count": 124,
   "id": "b86b1935-01d6-433a-8cf2-101c638fb136",
   "metadata": {},
   "outputs": [],
   "source": [
    "loan_per_dpd = df_xls.select(\"loan_term\", \"dpd_category\")"
   ]
  },
  {
   "cell_type": "code",
   "execution_count": 125,
   "id": "b3b63fea-bc8a-426d-832b-f73077a627eb",
   "metadata": {
    "scrolled": true
   },
   "outputs": [
    {
     "name": "stdout",
     "output_type": "stream",
     "text": [
      "+---------+------------------+\n",
      "|loan_term|      dpd_category|\n",
      "+---------+------------------+\n",
      "|       21|     dpd_category0|\n",
      "|       84|  dpd_category3160|\n",
      "|       63|     dpd_category0|\n",
      "|      112|  dpd_category3160|\n",
      "|       28|     dpd_category0|\n",
      "|       91|     dpd_category0|\n",
      "|       49|dpd_category61more|\n",
      "|      105|     dpd_category0|\n",
      "|       84|dpd_category61more|\n",
      "|      112|     dpd_category0|\n",
      "|       42|     dpd_category0|\n",
      "|       84|     dpd_category0|\n",
      "|       35|   dpd_category130|\n",
      "|       56|     dpd_category0|\n",
      "|       84|     dpd_category0|\n",
      "|       28|     dpd_category0|\n",
      "|       56|  dpd_category3160|\n",
      "|      105|     dpd_category0|\n",
      "|       49|  dpd_category3160|\n",
      "|       77|     dpd_category0|\n",
      "+---------+------------------+\n",
      "only showing top 20 rows\n",
      "\n"
     ]
    }
   ],
   "source": [
    "loan_per_dpd.show()"
   ]
  },
  {
   "cell_type": "code",
   "execution_count": 128,
   "id": "a550ae45-e82f-4689-8007-a7dbb65e8855",
   "metadata": {},
   "outputs": [],
   "source": [
    "from pyspark.sql.functions import sum"
   ]
  },
  {
   "cell_type": "code",
   "execution_count": 134,
   "id": "e12e40b6-9ad0-4e16-8178-9b3fc6a62acd",
   "metadata": {},
   "outputs": [],
   "source": [
    "# membagi jumlah kredit kurang lancar, diragukan, dan macet dengan total kredit yang disalurkan, \n",
    "# kemudian dikali 100%\n",
    "\n",
    "# Rasio NPL= (Total NPL (Kurang Lancar + Diragukan + Macet)/Total Kredit) X 100%\n",
    "PL = df_xls.filter(df_xls.kolektibilitas == \"lancar\").select(sum(dpd_bucket_cat0.loan_amount)).first()[0]\n",
    "NPL1 = df_xls.filter(df_xls.kolektibilitas == \"dalam_perhatian_khusus\").select(sum(dpd_bucket_cat0.loan_amount)).first()[0]\n",
    "NPL2 = df_xls.filter(df_xls.kolektibilitas == \"kurang_lancar\").select(sum(dpd_bucket_cat0.loan_amount)).first()[0]\n",
    "NPL3 = df_xls.filter(df_xls.kolektibilitas == \"diragukan\").select(sum(dpd_bucket_cat0.loan_amount)).first()[0]\n",
    "NPL4 = 0 if (df_xls.filter(df_xls.kolektibilitas == \"macet\").select(sum(dpd_bucket_cat0.loan_amount)).first()[0]) == None else (df_xls.filter(df_xls.kolektibilitas == \"macet\").select(sum(dpd_bucket_cat0.loan_amount)).first()[0])\n",
    "\n"
   ]
  },
  {
   "cell_type": "code",
   "execution_count": 136,
   "id": "91bd6a29-c79e-49ee-b880-445a308cbb27",
   "metadata": {},
   "outputs": [
    {
     "name": "stdout",
     "output_type": "stream",
     "text": [
      "1.9844710485654897\n"
     ]
    }
   ],
   "source": [
    "Total_NPL = NPL2 + NPL3 + NPL4\n",
    "Credit_Total = PL + NPL1 + NPL2 + NPL3 + NPL4\n",
    "NPL = (Total_NPL / Credit_Total) * 100\n",
    "print(NPL)"
   ]
  },
  {
   "cell_type": "code",
   "execution_count": 100,
   "id": "bdcca070-698f-4324-a716-7b7d2880ab98",
   "metadata": {},
   "outputs": [
    {
     "name": "stdout",
     "output_type": "stream",
     "text": [
      "root\n",
      " |-- loan_id: string (nullable = true)\n",
      " |-- loan_amount: integer (nullable = true)\n",
      " |-- borrower_id: string (nullable = true)\n",
      " |-- status: string (nullable = true)\n",
      " |-- partner: string (nullable = true)\n",
      " |-- current_dpd: integer (nullable = true)\n",
      " |-- max_dpd: integer (nullable = true)\n",
      " |-- interest_rate: double (nullable = true)\n",
      " |-- loan_term: integer (nullable = true)\n",
      " |-- dpd_category: string (nullable = false)\n",
      "\n"
     ]
    }
   ],
   "source": [
    "df_xls.printSchema()"
   ]
  },
  {
   "cell_type": "code",
   "execution_count": 106,
   "id": "83c646bb-0f17-4830-9615-730a2f11adcf",
   "metadata": {},
   "outputs": [
    {
     "name": "stdout",
     "output_type": "stream",
     "text": [
      "+----------------+\n",
      "|max(current_dpd)|\n",
      "+----------------+\n",
      "|             179|\n",
      "+----------------+\n",
      "\n"
     ]
    }
   ],
   "source": [
    "df_xls.agg({'current_dpd': 'max'}).show()"
   ]
  },
  {
   "cell_type": "code",
   "execution_count": null,
   "id": "148288ee-87cd-4aa2-b349-9d017628d571",
   "metadata": {},
   "outputs": [],
   "source": []
  }
 ],
 "metadata": {
  "kernelspec": {
   "display_name": "Python 3 (ipykernel)",
   "language": "python",
   "name": "python3"
  },
  "language_info": {
   "codemirror_mode": {
    "name": "ipython",
    "version": 3
   },
   "file_extension": ".py",
   "mimetype": "text/x-python",
   "name": "python",
   "nbconvert_exporter": "python",
   "pygments_lexer": "ipython3",
   "version": "3.11.6"
  }
 },
 "nbformat": 4,
 "nbformat_minor": 5
}
